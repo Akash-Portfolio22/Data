{
 "cells": [
  {
   "cell_type": "code",
   "execution_count": 1,
   "id": "105d541c-e36f-44a0-9290-53cfb9c76530",
   "metadata": {},
   "outputs": [],
   "source": [
    "# BMI calculator\n",
    "# BMI = (weight* 703) ÷ (height *height)\n",
    "# BMI\tStatus\n",
    "# ≤ 18.4\tUnderweight\n",
    "# 18.5 - 24.9\tNormal\n",
    "# 25.0 - 39.9\tOverweight\n",
    "# ≥ 40.0\tObese\n"
   ]
  },
  {
   "cell_type": "code",
   "execution_count": 17,
   "id": "7ffd816a-fdfc-4d57-8259-6c2c379ba520",
   "metadata": {},
   "outputs": [
    {
     "name": "stdin",
     "output_type": "stream",
     "text": [
      "Enter your name:  Akash\n",
      "Enter your weight in pounds:  170\n",
      "Enter your height in inches:  69\n"
     ]
    },
    {
     "name": "stdout",
     "output_type": "stream",
     "text": [
      "25.101869355177485\n",
      "Akash,You are overweight.\n"
     ]
    }
   ],
   "source": [
    "name = input(\"Enter your name: \")\n",
    "weight = int(input(\"Enter your weight in pounds: \"))\n",
    "height = int(input(\"Enter your height in inches: \"))\n",
    "BMI = (weight* 703)/(height *height)\n",
    "print(BMI)\n",
    "if (BMI>0):\n",
    "    if (BMI<=18.4):\n",
    "        print(name + \",\" \"You are underweight.\")\n",
    "    elif (BMI<=24.9):\n",
    "        print(name + \",\" \"Your weight is normal.\")\n",
    "    elif (BMI<=39.9):\n",
    "        print(name + \",\" \"You are overweight.\")\n",
    "    else:\n",
    "        print(name + \",\" \"You are Obese.\")\n",
    "else:\n",
    "    print(\"Enter valid input\")"
   ]
  },
  {
   "cell_type": "code",
   "execution_count": null,
   "id": "b816b2b2-19f7-40c6-955b-e79940cd0ce7",
   "metadata": {},
   "outputs": [],
   "source": []
  },
  {
   "cell_type": "code",
   "execution_count": null,
   "id": "cb3e28b8-0cd7-4fd6-af78-5eb498c427a1",
   "metadata": {},
   "outputs": [],
   "source": []
  },
  {
   "cell_type": "code",
   "execution_count": null,
   "id": "f6169390-a9e6-4cf4-9916-97ffbfd42b09",
   "metadata": {},
   "outputs": [],
   "source": []
  },
  {
   "cell_type": "code",
   "execution_count": null,
   "id": "1538e7b2-2468-4084-8b1b-90affbfec3ea",
   "metadata": {},
   "outputs": [],
   "source": []
  }
 ],
 "metadata": {
  "kernelspec": {
   "display_name": "Python 3 (ipykernel)",
   "language": "python",
   "name": "python3"
  },
  "language_info": {
   "codemirror_mode": {
    "name": "ipython",
    "version": 3
   },
   "file_extension": ".py",
   "mimetype": "text/x-python",
   "name": "python",
   "nbconvert_exporter": "python",
   "pygments_lexer": "ipython3",
   "version": "3.12.4"
  }
 },
 "nbformat": 4,
 "nbformat_minor": 5
}
