{
 "cells": [
  {
   "cell_type": "code",
   "execution_count": 15,
   "id": "8c4df0cb-71a8-43dd-b1f3-802992cc2335",
   "metadata": {},
   "outputs": [],
   "source": [
    "import os, shutil"
   ]
  },
  {
   "cell_type": "code",
   "execution_count": 16,
   "id": "4516eadb-6845-48cc-9a3a-368cf646d287",
   "metadata": {},
   "outputs": [],
   "source": [
    "path = r\"C:/Users/asus/Downloads/File Sorter/\""
   ]
  },
  {
   "cell_type": "code",
   "execution_count": 17,
   "id": "40a2a7bb-df44-4161-9575-aa02cd85d20c",
   "metadata": {},
   "outputs": [],
   "source": [
    "File_Name = os.listdir(path)"
   ]
  },
  {
   "cell_type": "code",
   "execution_count": 19,
   "id": "d8b621e9-f887-4c4e-a24d-56868c4f6e71",
   "metadata": {},
   "outputs": [],
   "source": [
    "Folders = [\"CSV Files\", \"Image Files\", \"Text Files\"]\n",
    "for loop in range(0,3):\n",
    "        if not os.path.exists(path+Folders[loop]):\n",
    "            print (path+Folders[loop])\n",
    "            os.makedirs(path+Folders[loop])\n",
    "for file in File_Name:\n",
    "    if \".csv\" in file and not os.path.exists(path + \"CSV Files/\" + file):\n",
    "        shutil.move(path + file, path + \"CSV Files/\" + file)\n",
    "    elif \".png\" in file and not os.path.exists(path + \"Image Files/\" + file):\n",
    "        shutil.move(path + file, path + \"Image Files/\" + file)\n",
    "    elif \".txt\" in file and not os.path.exists(path + \"Text Files/\" + file):\n",
    "        shutil.move(path + file, path + \"Text Files/\" + file)"
   ]
  },
  {
   "cell_type": "code",
   "execution_count": 14,
   "id": "3e56c76f-92c7-42fc-b3ee-efe744b24976",
   "metadata": {},
   "outputs": [],
   "source": []
  },
  {
   "cell_type": "code",
   "execution_count": null,
   "id": "543f2d24-8cba-499d-a8a7-80b854d06e6a",
   "metadata": {},
   "outputs": [],
   "source": []
  },
  {
   "cell_type": "code",
   "execution_count": null,
   "id": "36f7443f-e480-44c9-9789-a6ed9f5fb4e5",
   "metadata": {},
   "outputs": [],
   "source": []
  },
  {
   "cell_type": "code",
   "execution_count": null,
   "id": "b11856dd-f99d-4cf8-be8d-db6e0e6ba83a",
   "metadata": {},
   "outputs": [],
   "source": []
  },
  {
   "cell_type": "code",
   "execution_count": null,
   "id": "d98c66f3-2026-4123-a420-4ae3f742a36e",
   "metadata": {},
   "outputs": [],
   "source": []
  },
  {
   "cell_type": "code",
   "execution_count": null,
   "id": "ed73a748-744a-4179-a12e-ef5cd31681e0",
   "metadata": {},
   "outputs": [],
   "source": []
  },
  {
   "cell_type": "code",
   "execution_count": null,
   "id": "65c7bd7b-6b05-45d1-beb9-2adaf2f8e4a7",
   "metadata": {},
   "outputs": [],
   "source": []
  },
  {
   "cell_type": "code",
   "execution_count": null,
   "id": "f3df9a6d-2204-44d4-8401-6302552c893f",
   "metadata": {},
   "outputs": [],
   "source": []
  },
  {
   "cell_type": "code",
   "execution_count": null,
   "id": "7c4f01d9-d8ff-496c-9951-d64f8d716ffb",
   "metadata": {},
   "outputs": [],
   "source": []
  },
  {
   "cell_type": "code",
   "execution_count": null,
   "id": "9ea00e56-0fc1-476c-823d-a3c85f1972e4",
   "metadata": {},
   "outputs": [],
   "source": []
  },
  {
   "cell_type": "code",
   "execution_count": null,
   "id": "a7f6567e-683e-4f6f-a5d1-b100a46d4966",
   "metadata": {},
   "outputs": [],
   "source": []
  },
  {
   "cell_type": "code",
   "execution_count": null,
   "id": "7982d04a-3892-40c0-92d2-a7204f986e33",
   "metadata": {},
   "outputs": [],
   "source": []
  },
  {
   "cell_type": "code",
   "execution_count": null,
   "id": "fceadd12-5b3f-402b-bba4-4ce97ca327cc",
   "metadata": {},
   "outputs": [],
   "source": []
  },
  {
   "cell_type": "code",
   "execution_count": null,
   "id": "e20a341e-6450-4414-b681-81890abe5746",
   "metadata": {},
   "outputs": [],
   "source": []
  },
  {
   "cell_type": "code",
   "execution_count": null,
   "id": "be429e3f-59fe-4492-822e-c91699a66c44",
   "metadata": {},
   "outputs": [],
   "source": []
  },
  {
   "cell_type": "code",
   "execution_count": null,
   "id": "002f7a6c-4dfd-4843-b1c1-531aa268050c",
   "metadata": {},
   "outputs": [],
   "source": []
  },
  {
   "cell_type": "code",
   "execution_count": null,
   "id": "af592732-77b2-414d-80ef-63dc22d0885a",
   "metadata": {},
   "outputs": [],
   "source": []
  },
  {
   "cell_type": "code",
   "execution_count": null,
   "id": "c0a7715c-70c1-4f0a-8215-17e0cd3ef620",
   "metadata": {},
   "outputs": [],
   "source": []
  },
  {
   "cell_type": "code",
   "execution_count": null,
   "id": "82209ea3-d4ab-46d2-b350-a0f895f6c01f",
   "metadata": {},
   "outputs": [],
   "source": []
  },
  {
   "cell_type": "code",
   "execution_count": null,
   "id": "be068a3d-5edd-4118-81f9-162bfce03ad6",
   "metadata": {},
   "outputs": [],
   "source": []
  },
  {
   "cell_type": "code",
   "execution_count": null,
   "id": "91dc0fc8-7b24-479d-8c2c-2e9662fabc6f",
   "metadata": {},
   "outputs": [],
   "source": []
  },
  {
   "cell_type": "code",
   "execution_count": null,
   "id": "55cd35ac-071a-4a34-ac21-9e83319ffd2f",
   "metadata": {},
   "outputs": [],
   "source": []
  },
  {
   "cell_type": "code",
   "execution_count": null,
   "id": "8518d295-3a24-4ade-9a94-b9ed70146be9",
   "metadata": {},
   "outputs": [],
   "source": []
  },
  {
   "cell_type": "code",
   "execution_count": null,
   "id": "40241e2d-fc84-4dde-86fc-dc283cb1c4d8",
   "metadata": {},
   "outputs": [],
   "source": []
  },
  {
   "cell_type": "code",
   "execution_count": null,
   "id": "b2f3cd97-da0d-4d39-ad3c-715d163ca744",
   "metadata": {},
   "outputs": [],
   "source": []
  },
  {
   "cell_type": "code",
   "execution_count": null,
   "id": "2a49d0c2-726a-4392-90ca-ea3fa160dd32",
   "metadata": {},
   "outputs": [],
   "source": []
  },
  {
   "cell_type": "code",
   "execution_count": null,
   "id": "b94b5fb2-faee-4ba0-85ec-000d97b47547",
   "metadata": {},
   "outputs": [],
   "source": []
  },
  {
   "cell_type": "code",
   "execution_count": null,
   "id": "d7d795f1-243f-429e-a718-7fcbe7d9c7d3",
   "metadata": {},
   "outputs": [],
   "source": []
  },
  {
   "cell_type": "code",
   "execution_count": null,
   "id": "e1fc24a4-4119-4b99-951b-de6a6a91bc33",
   "metadata": {},
   "outputs": [],
   "source": []
  },
  {
   "cell_type": "code",
   "execution_count": null,
   "id": "98bc60fd-d64b-411f-8de4-3e50c7962f93",
   "metadata": {},
   "outputs": [],
   "source": []
  },
  {
   "cell_type": "code",
   "execution_count": null,
   "id": "e3724af3-e87c-4868-92a8-534d69108a6f",
   "metadata": {},
   "outputs": [],
   "source": []
  },
  {
   "cell_type": "code",
   "execution_count": null,
   "id": "e34fdcb2-b5b9-4edb-8f51-2a7d30f53974",
   "metadata": {},
   "outputs": [],
   "source": []
  },
  {
   "cell_type": "code",
   "execution_count": null,
   "id": "43613f25-a237-4a43-b7d6-8a65570aa025",
   "metadata": {},
   "outputs": [],
   "source": []
  },
  {
   "cell_type": "code",
   "execution_count": null,
   "id": "c61a3692-81f9-4385-b6f7-793caa4b36e3",
   "metadata": {},
   "outputs": [],
   "source": []
  },
  {
   "cell_type": "code",
   "execution_count": null,
   "id": "79cc1802-c03c-438a-ac7b-7ede7c96ccec",
   "metadata": {},
   "outputs": [],
   "source": []
  },
  {
   "cell_type": "code",
   "execution_count": null,
   "id": "22b3e2e7-6283-4407-9b03-9cb2aef36612",
   "metadata": {},
   "outputs": [],
   "source": []
  },
  {
   "cell_type": "code",
   "execution_count": null,
   "id": "b59b16a6-2de5-4b9b-a2fb-7c6a0b91c68b",
   "metadata": {},
   "outputs": [],
   "source": []
  },
  {
   "cell_type": "code",
   "execution_count": null,
   "id": "d2aabc25-77de-4a1c-82ce-21a921b2e83c",
   "metadata": {},
   "outputs": [],
   "source": []
  },
  {
   "cell_type": "code",
   "execution_count": null,
   "id": "8f5b129c-18d4-4e01-af65-c9df8b80801c",
   "metadata": {},
   "outputs": [],
   "source": []
  },
  {
   "cell_type": "code",
   "execution_count": null,
   "id": "57c1a369-2913-4f7b-b41a-ee689eca2a1f",
   "metadata": {},
   "outputs": [],
   "source": []
  },
  {
   "cell_type": "code",
   "execution_count": null,
   "id": "e5063b1b-0e52-4235-a148-d2c6927f19cd",
   "metadata": {},
   "outputs": [],
   "source": []
  },
  {
   "cell_type": "code",
   "execution_count": null,
   "id": "17721eef-a13d-44b9-ad3b-b641e783e9a3",
   "metadata": {},
   "outputs": [],
   "source": []
  },
  {
   "cell_type": "code",
   "execution_count": null,
   "id": "36745f1f-673a-4ae2-8f88-cfef75d7f40d",
   "metadata": {},
   "outputs": [],
   "source": []
  },
  {
   "cell_type": "code",
   "execution_count": null,
   "id": "cd330d3e-1afe-4dd5-8136-f67dce0db88f",
   "metadata": {},
   "outputs": [],
   "source": []
  },
  {
   "cell_type": "code",
   "execution_count": null,
   "id": "a5282ec4-e838-443f-89a8-c02faf94cf00",
   "metadata": {},
   "outputs": [],
   "source": []
  },
  {
   "cell_type": "code",
   "execution_count": null,
   "id": "afbec2df-4078-403b-9e0f-7c9606f28b63",
   "metadata": {},
   "outputs": [],
   "source": []
  },
  {
   "cell_type": "code",
   "execution_count": null,
   "id": "93864078-dd64-41f3-830e-ca147af128fc",
   "metadata": {},
   "outputs": [],
   "source": []
  },
  {
   "cell_type": "code",
   "execution_count": null,
   "id": "4e140f00-f25b-4eb8-bd3f-ef788f6b4e66",
   "metadata": {},
   "outputs": [],
   "source": []
  },
  {
   "cell_type": "code",
   "execution_count": null,
   "id": "15514495-f097-4829-88ca-4a5cb8e72dfa",
   "metadata": {},
   "outputs": [],
   "source": []
  },
  {
   "cell_type": "code",
   "execution_count": null,
   "id": "57111296-4623-4d14-ada2-457844832479",
   "metadata": {},
   "outputs": [],
   "source": []
  },
  {
   "cell_type": "code",
   "execution_count": null,
   "id": "a88c971d-a72e-450b-9ab3-14e324f72b91",
   "metadata": {},
   "outputs": [],
   "source": []
  },
  {
   "cell_type": "code",
   "execution_count": null,
   "id": "a78d0ae9-c3ca-4691-a62d-4bd37e2a40d9",
   "metadata": {},
   "outputs": [],
   "source": []
  },
  {
   "cell_type": "code",
   "execution_count": null,
   "id": "be301bf6-813d-41fa-8752-d5a9ae1c12b2",
   "metadata": {},
   "outputs": [],
   "source": []
  },
  {
   "cell_type": "code",
   "execution_count": null,
   "id": "d3490cc9-4948-49f5-aecf-e2e811411cf4",
   "metadata": {},
   "outputs": [],
   "source": []
  },
  {
   "cell_type": "code",
   "execution_count": null,
   "id": "851cdc46-6a2f-477d-a525-8150ba03583a",
   "metadata": {},
   "outputs": [],
   "source": []
  },
  {
   "cell_type": "code",
   "execution_count": null,
   "id": "ad6461f2-e4d4-40ad-999a-1c3cc09c459f",
   "metadata": {},
   "outputs": [],
   "source": []
  },
  {
   "cell_type": "code",
   "execution_count": null,
   "id": "9623d6b2-aad7-44a0-abe0-e388d7a2c129",
   "metadata": {},
   "outputs": [],
   "source": []
  },
  {
   "cell_type": "code",
   "execution_count": null,
   "id": "94ed3114-d650-494b-975d-d0038471f96d",
   "metadata": {},
   "outputs": [],
   "source": []
  },
  {
   "cell_type": "code",
   "execution_count": null,
   "id": "b40464fa-6907-42db-b93c-6dd13dd5178f",
   "metadata": {},
   "outputs": [],
   "source": []
  },
  {
   "cell_type": "code",
   "execution_count": null,
   "id": "3645e4fe-2450-4e83-a905-247810c47f66",
   "metadata": {},
   "outputs": [],
   "source": []
  },
  {
   "cell_type": "code",
   "execution_count": null,
   "id": "cb2c5eb1-fd83-4c2d-a18f-156430217f3f",
   "metadata": {},
   "outputs": [],
   "source": []
  },
  {
   "cell_type": "code",
   "execution_count": null,
   "id": "11d3ddb9-35cb-498d-982f-93f5999a7cea",
   "metadata": {},
   "outputs": [],
   "source": []
  },
  {
   "cell_type": "code",
   "execution_count": null,
   "id": "f2194f9b-3f02-4dbc-af39-7b00e78c963c",
   "metadata": {},
   "outputs": [],
   "source": []
  },
  {
   "cell_type": "code",
   "execution_count": null,
   "id": "93f1bcbc-ddac-4b21-9500-cb2e6b47a907",
   "metadata": {},
   "outputs": [],
   "source": []
  },
  {
   "cell_type": "code",
   "execution_count": null,
   "id": "7370483c-12cf-48de-9adc-a0a7c0b84767",
   "metadata": {},
   "outputs": [],
   "source": []
  },
  {
   "cell_type": "code",
   "execution_count": null,
   "id": "2a05607c-b4b8-41e7-94d3-3b01b98894c1",
   "metadata": {},
   "outputs": [],
   "source": []
  },
  {
   "cell_type": "code",
   "execution_count": null,
   "id": "842ac88e-b202-4175-8e02-b75bd9a16b2f",
   "metadata": {},
   "outputs": [],
   "source": []
  },
  {
   "cell_type": "code",
   "execution_count": null,
   "id": "e126ec02-318f-4146-a64d-66164fab2335",
   "metadata": {},
   "outputs": [],
   "source": []
  },
  {
   "cell_type": "code",
   "execution_count": null,
   "id": "04e96fbd-9f69-4c74-b9da-c43f7d41735a",
   "metadata": {},
   "outputs": [],
   "source": []
  },
  {
   "cell_type": "code",
   "execution_count": null,
   "id": "b4566997-09db-4b94-9646-2bb9719bf674",
   "metadata": {},
   "outputs": [],
   "source": []
  },
  {
   "cell_type": "code",
   "execution_count": null,
   "id": "a1558f23-34d5-4c96-ad36-021375985ffb",
   "metadata": {},
   "outputs": [],
   "source": []
  },
  {
   "cell_type": "code",
   "execution_count": null,
   "id": "fe5e3d05-9719-496d-b2f3-805108d31a8d",
   "metadata": {},
   "outputs": [],
   "source": []
  },
  {
   "cell_type": "code",
   "execution_count": null,
   "id": "b6ba10a5-d078-4cef-9ccc-be66cd7ba117",
   "metadata": {},
   "outputs": [],
   "source": []
  },
  {
   "cell_type": "code",
   "execution_count": null,
   "id": "46281dc0-09d0-490d-adfd-865c8ced4248",
   "metadata": {},
   "outputs": [],
   "source": []
  },
  {
   "cell_type": "code",
   "execution_count": null,
   "id": "e1b14de9-c296-4b68-a64d-2e255a79cbe7",
   "metadata": {},
   "outputs": [],
   "source": []
  },
  {
   "cell_type": "code",
   "execution_count": null,
   "id": "c3e1af87-e0f6-4b07-ab6e-73e90f6276d5",
   "metadata": {},
   "outputs": [],
   "source": []
  },
  {
   "cell_type": "code",
   "execution_count": null,
   "id": "dfd1caca-0774-46bb-b734-2f640bd2b8d8",
   "metadata": {},
   "outputs": [],
   "source": []
  }
 ],
 "metadata": {
  "kernelspec": {
   "display_name": "Python 3 (ipykernel)",
   "language": "python",
   "name": "python3"
  },
  "language_info": {
   "codemirror_mode": {
    "name": "ipython",
    "version": 3
   },
   "file_extension": ".py",
   "mimetype": "text/x-python",
   "name": "python",
   "nbconvert_exporter": "python",
   "pygments_lexer": "ipython3",
   "version": "3.12.4"
  }
 },
 "nbformat": 4,
 "nbformat_minor": 5
}
